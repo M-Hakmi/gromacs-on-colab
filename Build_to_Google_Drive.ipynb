{
  "nbformat": 4,
  "nbformat_minor": 0,
  "metadata": {
    "colab": {
      "private_outputs": true,
      "provenance": [],
      "collapsed_sections": [
        "vv5cq2Wv7UhB"
      ]
    },
    "kernelspec": {
      "name": "python3",
      "display_name": "Python 3"
    },
    "language_info": {
      "name": "python"
    }
  },
  "cells": [
    {
      "cell_type": "markdown",
      "source": [
        "#### Build to Google Drive <font color=\"DarkSeaGreen\">/ GROMACS-on-Colab</font>\n",
        "<small>Suite: `Build_to_Google_Drive.ipynb` | [`GROMACS_for_CHARMM-GUI.ipynb`](https://colab.research.google.com/github/bioinfkaustin/gromacs-on-colab/blob/main/GROMACS_for_CHARMM-GUI.ipynb) | [`GROMACS_for_production.ipynb`](https://colab.research.google.com/github/bioinfkaustin/gromacs-on-colab/blob/main/GROMACS_for_production.ipynb) | [`Trajectory_analysis_tools.ipynb`](https://colab.research.google.com/github/bioinfkaustin/gromacs-on-colab/blob/main/Trajectory_analysis_tools.ipynb)</small>"
      ],
      "metadata": {
        "id": "Z-TExYh0MGuS"
      }
    },
    {
      "cell_type": "markdown",
      "source": [
        "#### Documentation\n",
        "**Before using this notebook, please click the *↳ cells hidden* button below to show the documentation.**"
      ],
      "metadata": {
        "id": "vv5cq2Wv7UhB"
      }
    },
    {
      "cell_type": "markdown",
      "source": [
        "##### License\n",
        "\n",
        "> This notebook as a work of software is licensed under the terms of the [AGPL-3.0](https://opensource.org/licenses/AGPL-3.0) or later."
      ],
      "metadata": {
        "id": "5dTAvj38Dal8"
      }
    },
    {
      "cell_type": "markdown",
      "source": [
        "##### About this software\n",
        "\n",
        "> This notebook compiles and installs **GROMACS** and other libraries and utilities for running molecular dynamics simulations. It then caches the installations in your connected **Google Drive**, for later use in other notebooks.\n",
        ">\n",
        "> (To ensure compatiblity with every runtime type, please run this notebook on a \"CPU only / Standard RAM\" instance.)"
      ],
      "metadata": {
        "id": "Jb0ESikELkRH"
      }
    },
    {
      "cell_type": "markdown",
      "source": [
        "#### Installation\n",
        "\n",
        "**Run this installation by clicking *Runtime -> Run all* in the toolbar.**"
      ],
      "metadata": {
        "id": "j7tcSeX0b5dd"
      }
    },
    {
      "cell_type": "code",
      "source": [
        "#@markdown In the following cells, applications will be downloaded from the internet and compiled and/or installed to a **persistent cache** in your Google Drive.\n",
        "#@markdown\n",
        "#@markdown This cell sets up the cache folder.\n",
        "\n",
        "import os\n",
        "\n",
        "if not os.path.isdir(\"/content/drive/MyDrive\"):\n",
        "  from google.colab import drive\n",
        "  drive.mount(\"/content/drive\")\n",
        "\n",
        "if not os.path.isdir(\"/content/drive/MyDrive\"):\n",
        "  raise RuntimeError(\"Error: could not connect to Google Drive\")\n",
        "\n",
        "storage = \"/content/drive/MyDrive/gromacs-on-colab\"\n",
        "os.makedirs(storage, exist_ok=True)\n",
        "%env STORAGE={storage}\n",
        "\n",
        "if \"START\" not in os.environ or not os.environ[\"START\"]:\n",
        "  %env START={os.getcwd()}\n",
        "else:\n",
        "  %cd {os.environ[\"START\"]}"
      ],
      "metadata": {
        "id": "bhcpS51_dHd4",
        "cellView": "form"
      },
      "execution_count": null,
      "outputs": []
    },
    {
      "cell_type": "code",
      "source": [
        "%%bash\n",
        "#@markdown **GROMACS** is downloaded prebuilt from [this notebook's GitHub repository](https://github.com/bioinfkaustin/gromacs-on-colab).\n",
        "#@markdown\n",
        "#@markdown If not available, it is instead compiled from source code. (This takes a while.)\n",
        "\n",
        "if [[ -d \"/usr/local/gromacs\" ]]; then\n",
        "  exit 0  # already installed\n",
        "fi\n",
        "\n",
        "gromacs_vers=\"2023.2\" #@param {type: \"string\"}\n",
        "cache_gromacs=\"${STORAGE}/gromacs-${gromacs_vers}.tar.gz\"\n",
        "\n",
        "if [[ -s \"${cache_gromacs}\" ]]; then\n",
        "  tar -xzf \"${cache_gromacs}\" -C \"/usr/local\"\n",
        "else\n",
        "  # Try to get a prebuilt archive...\n",
        "  wget -q \"https://raw.githubusercontent.com/bioinfkaustin/gromacs-on-colab/main/prebuilt/gromacs-${gromacs_vers}.tar.gz\"\n",
        "  if [[ -s \"gromacs-${gromacs_vers}.tar.gz\" ]]; then\n",
        "    tar -xzf \"gromacs-${gromacs_vers}.tar.gz\" -C \"/usr/local\"\n",
        "\n",
        "    # Cache\n",
        "    cp \"gromacs-${gromacs_vers}.tar.gz\" \"${cache_gromacs}\"\n",
        "\n",
        "  # Prebuilt archive not available, so download the source code and build it...\n",
        "  else\n",
        "    wget -q \"ftp://ftp.gromacs.org/gromacs/gromacs-${gromacs_vers}.tar.gz\"\n",
        "    if [[ ! -s \"gromacs-${gromacs_vers}.tar.gz\" ]]; then\n",
        "      echo \"Error: could not download: gromacs-${gromacs_vers}.tar.gz\" >&2\n",
        "      exit 1\n",
        "    fi\n",
        "    tar -xzf \"gromacs-${gromacs_vers}.tar.gz\"\n",
        "    rm \"gromacs-${gromacs_vers}.tar.gz\"\n",
        "\n",
        "    cd \"gromacs-${gromacs_vers}\"\n",
        "    mkdir \"build\"\n",
        "    cd \"build\"\n",
        "    cmake .. -DGMX_BUILD_OWN_FFTW=ON -DGMX_GPU=CUDA\n",
        "    make -j $(nproc)\n",
        "    make install # -> /usr/local/gromacs\n",
        "\n",
        "    # Cache\n",
        "    tar -czf \"my_gromacs.tar.gz\" -C \"/usr/local\" \"gromacs\"\n",
        "    mv \"my_gromacs.tar.gz\" \"${cache_gromacs}\"\n",
        "  fi\n",
        "fi"
      ],
      "metadata": {
        "cellView": "form",
        "id": "WV8aP1j0Ra0E"
      },
      "execution_count": null,
      "outputs": []
    },
    {
      "cell_type": "code",
      "source": [
        "%%bash\n",
        "#@markdown Set up a Miniconda environment with **Python** `<=3.8`, **Numpy** `<=1.23`, and **NetworkX** `=2.3`, for `cgenff_charmm2gmx.py`; and a second environment for **Biopython** and **Open Babel**.\n",
        "\n",
        "if [[ -d \"${START}/miniconda3\" ]]; then\n",
        "  exit 0  # already installed\n",
        "fi\n",
        "\n",
        "miniconda3_vers=\"py310_23.5.2-0\" #@param {type: \"string\"}\n",
        "\n",
        "cache_miniconda3_installer=\"${STORAGE}/Miniconda3-${miniconda3_vers}-Linux-x86_64.sh.tar.gz\"\n",
        "\n",
        "if [[ -s \"${cache_miniconda3_installer}\" ]]; then\n",
        "  tar -xzf \"${cache_miniconda3_installer}\"\n",
        "else\n",
        "  wget -q \"https://repo.anaconda.com/miniconda/Miniconda3-${miniconda3_vers}-Linux-x86_64.sh\"\n",
        "  if [[ ! -s \"Miniconda3-${miniconda3_vers}-Linux-x86_64.sh\" ]]; then\n",
        "    echo \"Error: could not download: Miniconda3-${miniconda3_vers}-Linux-x86_64.sh\" >&2\n",
        "    exit 1\n",
        "  fi\n",
        "\n",
        "  tar -czf \"my_miniconda3_installer.tar.gz\" \"Miniconda3-${miniconda3_vers}-Linux-x86_64.sh\"\n",
        "  mv \"my_miniconda3_installer.tar.gz\" \"${cache_miniconda3_installer}\"\n",
        "fi\n",
        "\n",
        "bash \"Miniconda3-${miniconda3_vers}-Linux-x86_64.sh\" -b -p \"${START}/miniconda3\"\n",
        "rm \"Miniconda3-${miniconda3_vers}-Linux-x86_64.sh\"\n",
        "\n",
        "eval \"$(\"$START/miniconda3/bin/conda\" shell.bash hook)\"\n",
        "\n",
        "cache_miniconda3=\"${STORAGE}/Miniconda3-${miniconda3_vers}-Linux-x86_64_envs.tar.gz\"\n",
        "\n",
        "if [[ -s \"${cache_miniconda3}\" ]]; then\n",
        "  tar -xzf \"${cache_miniconda3}\" -C \"${START}/miniconda3\"\n",
        "else\n",
        "  conda create --yes --name \"charmm2gmx\"\n",
        "  conda activate \"charmm2gmx\"\n",
        "  conda config --env --set channel_priority \"strict\"\n",
        "  conda config --env --add channels \"conda-forge\"\n",
        "  conda install -q --yes \"python<=3.8\" \"networkx=2.3\" \"numpy<=1.23\"\n",
        "\n",
        "  conda create --yes --name \"biopython\"\n",
        "  conda activate \"biopython\"\n",
        "  conda config --env --set channel_priority \"strict\"\n",
        "  conda config --env --add channels \"conda-forge\"\n",
        "  conda install -q --yes \"biopython\" \"openbabel\"\n",
        "\n",
        "  # Cache\n",
        "  tar -czf \"my_miniconda3_envs.tar.gz\" -C \"${START}/miniconda3\" \"envs\"\n",
        "  mv \"my_miniconda3_envs.tar.gz\" \"${cache_miniconda3}\"\n",
        "fi"
      ],
      "metadata": {
        "id": "39WYUdSHzuDQ",
        "cellView": "form"
      },
      "execution_count": null,
      "outputs": []
    },
    {
      "cell_type": "code",
      "source": [
        "%%bash\n",
        "#@markdown The CHARMM36 forcefield is downloaded.\n",
        "\n",
        "if [[ -d \"${START}/charmm36.ff\" ]]; then\n",
        "  exit 0  # already installed\n",
        "fi\n",
        "\n",
        "charmm36_vers=\"jul2022\" #@param {type: \"string\"}\n",
        "cache_charmm36=\"${STORAGE}/charmm36-${charmm36_vers}.tar.gz\"\n",
        "\n",
        "if [[ -s \"${cache_charmm36}\" ]]; then\n",
        "  tar -xzf \"${cache_charmm36}\" -C \"${START}\"\n",
        "else\n",
        "  wget -q -O \"charmm36-${charmm36_vers}.ff.tgz\" \"https://mackerell.umaryland.edu/download.php?filename=CHARMM_ff_params_files/charmm36-${charmm36_vers}.ff.tgz\"\n",
        "  if [[ ! -s \"charmm36-${charmm36_vers}.ff.tgz\" ]]; then\n",
        "    echo \"Error: could not download: charmm36-${charmm36_vers}.ff.tgz\" >&2\n",
        "    exit 1\n",
        "  fi\n",
        "  tar -xzf \"charmm36-${charmm36_vers}.ff.tgz\"\n",
        "  rm \"charmm36-${charmm36_vers}.ff.tgz\"\n",
        "\n",
        "  mv \"charmm36-${charmm36_vers}.ff\" \"${START}/charmm36.ff\"\n",
        "\n",
        "  # Cache\n",
        "  tar -czf \"my_charmm36.tar.gz\" -C \"${START}\" \"charmm36.ff\"\n",
        "  mv \"my_charmm36.tar.gz\" \"${cache_charmm36}\"\n",
        "fi"
      ],
      "metadata": {
        "cellView": "form",
        "id": "QWr9d9Pg5-R5"
      },
      "execution_count": null,
      "outputs": []
    },
    {
      "cell_type": "code",
      "source": [
        "%%bash\n",
        "#@markdown The utility **`cgenff_charmm2gmx.py`** is installed.\n",
        "\n",
        "if [[ -x \"${START}/miniconda3/envs/charmm2gmx/bin/cgenff_charmm2gmx.py\" ]]; then\n",
        "  exit 0  # already installed\n",
        "fi\n",
        "\n",
        "charmm2gmx_vers=\"py3_nx2\" #@param {type: \"string\"}\n",
        "cache_charmm2gmx=\"$STORAGE/cgenff_charmm2gmx_${charmm2gmx_vers}.tar.gz\"\n",
        "\n",
        "if [[ -s \"${cache_charmm2gmx}\" ]]; then\n",
        "  tar -xzf \"${cache_charmm2gmx}\" -C \"${START}/miniconda3/envs/charmm2gmx/bin\"\n",
        "else\n",
        "  wget -q -O \"cgenff_charmm2gmx.py\" \"https://mackerell.umaryland.edu/download.php?filename=CHARMM_ff_params_files/cgenff_charmm2gmx_${charmm2gmx_vers}.py\"\n",
        "  if [[ ! -s \"cgenff_charmm2gmx.py\" ]]; then\n",
        "    echo \"Error: could not download: cgenff_charmm2gmx_${charmm2gmx_vers}.py\" >&2\n",
        "    exit 1\n",
        "  fi\n",
        "  sed -i\"\" 's/\\r//g' \"cgenff_charmm2gmx.py\"\n",
        "  chmod +x \"cgenff_charmm2gmx.py\"\n",
        "  mv \"cgenff_charmm2gmx.py\" \"${START}/miniconda3/envs/charmm2gmx/bin/\"\n",
        "\n",
        "  # Cache\n",
        "  tar -czf \"my_charmm2gmx.tar.gz\" -C \"${START}/miniconda3/envs/charmm2gmx/bin\" \"cgenff_charmm2gmx.py\"\n",
        "  mv \"my_charmm2gmx.tar.gz\" \"${cache_charmm2gmx}\"\n",
        "fi"
      ],
      "metadata": {
        "cellView": "form",
        "id": "VpRVEGtvUKCq"
      },
      "execution_count": null,
      "outputs": []
    },
    {
      "cell_type": "code",
      "source": [
        "#@markdown Finally, disconnect the runtime.\n",
        "disconnect = True #@param {type: \"boolean\"}\n",
        "\n",
        "if disconnect:\n",
        "  from google.colab import drive, runtime\n",
        "  drive.flush_and_unmount()\n",
        "  runtime.unassign()"
      ],
      "metadata": {
        "cellView": "form",
        "id": "76rBP69DA3N4"
      },
      "execution_count": null,
      "outputs": []
    }
  ]
}